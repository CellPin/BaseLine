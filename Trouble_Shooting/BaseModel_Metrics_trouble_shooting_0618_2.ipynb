{
 "cells": [
  {
   "cell_type": "markdown",
   "id": "880176a1",
   "metadata": {},
   "source": [
    "# list 라벨링의 오류 파헤쳐보기\n",
    "\n",
    "- 1300개의 이미지를 2진 분류하기 위해 라벨링을 \\[0, 1\\], \\[1, 0\\]로 하였을 때 Accuracy, Precision, Recall 값을 살펴보자\n",
    "\n",
    "## Step 1. 실험환경 set-up\n",
    "\n",
    "#### 라이브러리 실행"
   ]
  },
  {
   "cell_type": "code",
   "execution_count": 1,
   "id": "21536b61",
   "metadata": {},
   "outputs": [],
   "source": [
    "from tensorflow.keras             import utils, regularizers\n",
    "from tensorflow.keras.models      import Sequential, load_model\n",
    "from tensorflow.keras.layers      import Conv2D, MaxPooling2D, AveragePooling2D, Dense, Dropout, Activation, Flatten\n",
    "from tensorflow.keras.optimizers  import Adam\n",
    "from tensorflow.keras.constraints import MaxNorm\n",
    "from sklearn.model_selection      import train_test_split  # 데이터 전처리에 필요한 패키지\n",
    "\n",
    "import re    # 정규표현식 관련된 작업에 필요한 패키지\n",
    "import os    # I/O 관련된 작업에 필요한 패키지 \n",
    "import pandas as pd     # 데이터 전처리 관련된 작업에 필요한 패키지\n",
    "import numpy as np      # 데이터 array 작업에 필요한 패키지\n",
    "import tensorflow as tf  # 딥러닝 관련된 작업에 필요한 패키지\n",
    "import matplotlib.pyplot as plt    # 데이터 시각화에 관련된 작업에 필요한 패키지\n",
    "from PIL import Image"
   ]
  },
  {
   "cell_type": "markdown",
   "id": "686f2ccd",
   "metadata": {},
   "source": [
    "#### 필요한 변수들 생성"
   ]
  },
  {
   "cell_type": "code",
   "execution_count": 2,
   "id": "e19260d2",
   "metadata": {},
   "outputs": [],
   "source": [
    "# 데이터 로드할 때 빠르게 로드할 수 있도록하는 설정 변수\n",
    "AUTOTUNE = tf.data.experimental.AUTOTUNE\n",
    "\n",
    "# BATCH_SIZE 변수\n",
    "BATCH_SIZE = 32\n",
    "\n",
    "# 이미지 사이즈 변수\n",
    "IMAGE_SIZE = [256, 256]\n",
    "\n",
    "# EPOCH 크기 변수\n",
    "EPOCHS = 3"
   ]
  },
  {
   "cell_type": "markdown",
   "id": "27575540",
   "metadata": {},
   "source": []
  },
  {
   "cell_type": "code",
   "execution_count": 3,
   "id": "6e15a499",
   "metadata": {},
   "outputs": [
    {
     "data": {
      "text/plain": [
       "[PhysicalDevice(name='/physical_device:GPU:0', device_type='GPU')]"
      ]
     },
     "execution_count": 3,
     "metadata": {},
     "output_type": "execute_result"
    }
   ],
   "source": [
    "tf.config.list_physical_devices('GPU')"
   ]
  },
  {
   "cell_type": "markdown",
   "id": "7612e395",
   "metadata": {},
   "source": [
    "## Step 2. 데이터 준비하기\n",
    "\n",
    "\n",
    "#### 데이터의 개수 확인"
   ]
  },
  {
   "cell_type": "code",
   "execution_count": 4,
   "id": "11b7525c",
   "metadata": {},
   "outputs": [
    {
     "name": "stdout",
     "output_type": "stream",
     "text": [
      "/home/aiffel-dj63/CellPin_Trial\n",
      "780\n",
      "260\n",
      "260\n"
     ]
    }
   ],
   "source": [
    "# 데이터 ROOT 경로 변수\n",
    "ROOT_PATH = os.path.join(os.getenv('HOME') + '/CellPin_Trial')\n",
    "print(ROOT_PATH)\n",
    "\n",
    "train_filenames = tf.io.gfile.glob(str(ROOT_PATH + '/CellPin/train/*/*'))\n",
    "test_filenames = tf.io.gfile.glob(str(ROOT_PATH + '/CellPin/test/*/*'))\n",
    "val_filenames = tf.io.gfile.glob(str(ROOT_PATH + '/CellPin/val/*/*'))\n",
    "\n",
    "print(len(train_filenames))\n",
    "print(len(test_filenames))\n",
    "print(len(val_filenames))"
   ]
  },
  {
   "cell_type": "markdown",
   "id": "9ff36f62",
   "metadata": {},
   "source": [
    "#### train 데이터 안에 정상 이미지 수와 CPE 이미지 수"
   ]
  },
  {
   "cell_type": "code",
   "execution_count": 5,
   "id": "cac98cec",
   "metadata": {},
   "outputs": [
    {
     "name": "stdout",
     "output_type": "stream",
     "text": [
      "NORMAL images count in training set: 429\n",
      "CPE images count in training set: 351\n"
     ]
    }
   ],
   "source": [
    "COUNT_NORMAL = len([filename for filename in train_filenames if \"normal\" in filename])\n",
    "print(\"NORMAL images count in training set: \" + str(COUNT_NORMAL))\n",
    "\n",
    "COUNT_CPE = len([filename for filename in train_filenames if \"cpe\" in filename])\n",
    "print(\"CPE images count in training set: \" + str(COUNT_CPE))"
   ]
  },
  {
   "cell_type": "markdown",
   "id": "edc71c61",
   "metadata": {},
   "source": [
    "#### val 데이터 안에 정상 이미지 수와 CPE 이미지 수"
   ]
  },
  {
   "cell_type": "code",
   "execution_count": 6,
   "id": "3f5d1dbb",
   "metadata": {},
   "outputs": [
    {
     "name": "stdout",
     "output_type": "stream",
     "text": [
      "NORMAL images count in training set: 143\n",
      "CPE images count in training set: 117\n"
     ]
    }
   ],
   "source": [
    "COUNT_NORMAL = len([filename for filename in val_filenames if \"normal\" in filename])\n",
    "print(\"NORMAL images count in training set: \" + str(COUNT_NORMAL))\n",
    "\n",
    "COUNT_CPE = len([filename for filename in val_filenames if \"cpe\" in filename])\n",
    "print(\"CPE images count in training set: \" + str(COUNT_CPE))"
   ]
  },
  {
   "cell_type": "markdown",
   "id": "948518ae",
   "metadata": {},
   "source": [
    "#### test 데이터 안에 정상 이미지 수와 CPE 이미지 수"
   ]
  },
  {
   "cell_type": "code",
   "execution_count": 7,
   "id": "0af1a9f7",
   "metadata": {},
   "outputs": [
    {
     "name": "stdout",
     "output_type": "stream",
     "text": [
      "NORMAL images count in training set: 143\n",
      "CPE images count in training set: 117\n"
     ]
    }
   ],
   "source": [
    "COUNT_NORMAL = len([filename for filename in test_filenames if \"normal\" in filename])\n",
    "print(\"NORMAL images count in training set: \" + str(COUNT_NORMAL))\n",
    "\n",
    "COUNT_CPE = len([filename for filename in test_filenames if \"cpe\" in filename])\n",
    "print(\"CPE images count in training set: \" + str(COUNT_CPE))"
   ]
  },
  {
   "cell_type": "markdown",
   "id": "c6400de2",
   "metadata": {},
   "source": [
    "#### tf.data 인스턴스를 만들기"
   ]
  },
  {
   "cell_type": "code",
   "execution_count": 8,
   "id": "dd5e8e85",
   "metadata": {},
   "outputs": [],
   "source": [
    "train_list_ds = tf.data.Dataset.from_tensor_slices(train_filenames)\n",
    "val_list_ds = tf.data.Dataset.from_tensor_slices(val_filenames)"
   ]
  },
  {
   "cell_type": "markdown",
   "id": "1062a8f5",
   "metadata": {},
   "source": [
    "#### train data와 val data의 개수 확인"
   ]
  },
  {
   "cell_type": "code",
   "execution_count": 9,
   "id": "3a1a637a",
   "metadata": {},
   "outputs": [
    {
     "name": "stdout",
     "output_type": "stream",
     "text": [
      "Training images count: 780\n",
      "Validating images count: 260\n"
     ]
    }
   ],
   "source": [
    "TRAIN_IMG_COUNT = tf.data.experimental.cardinality(train_list_ds).numpy()\n",
    "print(\"Training images count: \" + str(TRAIN_IMG_COUNT))\n",
    "\n",
    "VAL_IMG_COUNT = tf.data.experimental.cardinality(val_list_ds).numpy()\n",
    "print(\"Validating images count: \" + str(VAL_IMG_COUNT))"
   ]
  },
  {
   "cell_type": "markdown",
   "id": "9f9d8078",
   "metadata": {},
   "source": [
    "#### 라벨 이름들 확인"
   ]
  },
  {
   "cell_type": "code",
   "execution_count": 10,
   "id": "51176936",
   "metadata": {},
   "outputs": [
    {
     "name": "stdout",
     "output_type": "stream",
     "text": [
      "['normal' 'cpe']\n"
     ]
    }
   ],
   "source": [
    "CLASS_NAMES = np.array([str(tf.strings.split(item, os.path.sep)[-1].numpy())[2:-1]\n",
    "                        for item in tf.io.gfile.glob(str(ROOT_PATH + \"/CellPin/train/*\"))])\n",
    "print(CLASS_NAMES)"
   ]
  },
  {
   "cell_type": "markdown",
   "id": "1fef5727",
   "metadata": {},
   "source": [
    "#### 라벨링 함수를 만들어 보기"
   ]
  },
  {
   "cell_type": "code",
   "execution_count": 11,
   "id": "08fe8326",
   "metadata": {},
   "outputs": [],
   "source": [
    "def get_label(file_path):\n",
    "    parts = tf.strings.split(file_path, os.path.sep)\n",
    "    return parts[-2] == \"cpe\""
   ]
  },
  {
   "cell_type": "markdown",
   "id": "1df61346",
   "metadata": {},
   "source": [
    "#### decode_img 함수와 process_path 함수를 만들기"
   ]
  },
  {
   "cell_type": "code",
   "execution_count": 12,
   "id": "93100faf",
   "metadata": {},
   "outputs": [],
   "source": [
    "def decode_img(img):\n",
    "  # 이미지를 uint8 tensor로 바꾼다.\n",
    "  img = tf.image.decode_jpeg(img, channels=3)\n",
    "  # img를 범위 [0,1]의 float32 데이터 타입으로 바꾼다.\n",
    "  img = tf.image.convert_image_dtype(img, tf.float32)\n",
    "  # img의 이미지 사이즈를 IMAGE_SIZE에서 지정한 사이즈로 수정한다.\n",
    "  return tf.image.resize(img, IMAGE_SIZE)\n",
    "\n",
    "def process_path(file_path):\n",
    "    label = get_label(file_path)\n",
    "    if label == True:\n",
    "        label = ([0, 1])\n",
    "    else:\n",
    "        label = ([1, 0])\n",
    "    img = tf.io.read_file(file_path)\n",
    "    img = decode_img(img)\n",
    "    return img, label"
   ]
  },
  {
   "cell_type": "markdown",
   "id": "3ec6e110",
   "metadata": {},
   "source": [
    "#### train과 val에 함수들 적용해주기"
   ]
  },
  {
   "cell_type": "code",
   "execution_count": 13,
   "id": "308f887e",
   "metadata": {},
   "outputs": [
    {
     "name": "stdout",
     "output_type": "stream",
     "text": [
      "WARNING:tensorflow:AutoGraph could not transform <function get_label at 0x7f35a0035170> and will run it as-is.\n",
      "Please report this to the TensorFlow team. When filing the bug, set the verbosity to 10 (on Linux, `export AUTOGRAPH_VERBOSITY=10`) and attach the full output.\n",
      "Cause: module 'gast' has no attribute 'Index'\n",
      "To silence this warning, decorate the function with @tf.autograph.experimental.do_not_convert\n",
      "WARNING: AutoGraph could not transform <function get_label at 0x7f35a0035170> and will run it as-is.\n",
      "Please report this to the TensorFlow team. When filing the bug, set the verbosity to 10 (on Linux, `export AUTOGRAPH_VERBOSITY=10`) and attach the full output.\n",
      "Cause: module 'gast' has no attribute 'Index'\n",
      "To silence this warning, decorate the function with @tf.autograph.experimental.do_not_convert\n"
     ]
    }
   ],
   "source": [
    "train_ds = train_list_ds.map(process_path, num_parallel_calls=AUTOTUNE)\n",
    "val_ds = val_list_ds.map(process_path, num_parallel_calls=AUTOTUNE)"
   ]
  },
  {
   "cell_type": "markdown",
   "id": "8a3fd032",
   "metadata": {},
   "source": [
    "#### 전처리 함수 만들기 및 적용"
   ]
  },
  {
   "cell_type": "code",
   "execution_count": 14,
   "id": "9b45b664",
   "metadata": {},
   "outputs": [],
   "source": [
    "def prepare_for_training(ds, shuffle_buffer_size=1000):\n",
    "    \n",
    "    ds = ds.shuffle(buffer_size=shuffle_buffer_size)\n",
    "\n",
    "    ds = ds.repeat()\n",
    "\n",
    "    ds = ds.batch(BATCH_SIZE)\n",
    "\n",
    "    ds = ds.prefetch(buffer_size=AUTOTUNE)\n",
    "\n",
    "    return ds\n",
    "\n",
    "train_ds = prepare_for_training(train_ds)\n",
    "val_ds = prepare_for_training(val_ds)"
   ]
  },
  {
   "cell_type": "markdown",
   "id": "d65fb4f2",
   "metadata": {},
   "source": [
    "#### Image shape를 변경 체크하기"
   ]
  },
  {
   "cell_type": "code",
   "execution_count": 15,
   "id": "f0c733a0",
   "metadata": {},
   "outputs": [
    {
     "name": "stdout",
     "output_type": "stream",
     "text": [
      "Image shape:  (32, 256, 256, 3)\n",
      "Label:  [[0 1]\n",
      " [1 0]\n",
      " [1 0]\n",
      " [0 1]\n",
      " [0 1]\n",
      " [1 0]\n",
      " [0 1]\n",
      " [1 0]\n",
      " [0 1]\n",
      " [0 1]\n",
      " [1 0]\n",
      " [1 0]\n",
      " [1 0]\n",
      " [1 0]\n",
      " [1 0]\n",
      " [1 0]\n",
      " [1 0]\n",
      " [0 1]\n",
      " [1 0]\n",
      " [0 1]\n",
      " [0 1]\n",
      " [1 0]\n",
      " [0 1]\n",
      " [0 1]\n",
      " [1 0]\n",
      " [1 0]\n",
      " [0 1]\n",
      " [0 1]\n",
      " [1 0]\n",
      " [1 0]\n",
      " [1 0]\n",
      " [0 1]]\n"
     ]
    }
   ],
   "source": [
    "for image, label in train_ds.take(1):\n",
    "    print(\"Image shape: \", image.numpy().shape)\n",
    "    print(\"Label: \", label.numpy())"
   ]
  },
  {
   "cell_type": "markdown",
   "id": "e93b0f29",
   "metadata": {},
   "source": [
    "#### test 데이터 셋도 만들어 보기 & 데이터의 갯수 확인"
   ]
  },
  {
   "cell_type": "code",
   "execution_count": 16,
   "id": "7a8832ee",
   "metadata": {},
   "outputs": [
    {
     "name": "stdout",
     "output_type": "stream",
     "text": [
      "260\n"
     ]
    }
   ],
   "source": [
    "test_list_ds = tf.data.Dataset.list_files(str(ROOT_PATH + '/CellPin/test/*/*'))\n",
    "TEST_IMAGE_COUNT = tf.data.experimental.cardinality(test_list_ds).numpy()\n",
    "test_ds = test_list_ds.map(process_path, num_parallel_calls=AUTOTUNE)\n",
    "test_ds = test_ds.batch(BATCH_SIZE)\n",
    "\n",
    "print(TEST_IMAGE_COUNT)"
   ]
  },
  {
   "cell_type": "markdown",
   "id": "1a90ebe4",
   "metadata": {},
   "source": [
    "#### model building"
   ]
  },
  {
   "cell_type": "code",
   "execution_count": 17,
   "id": "678659d2",
   "metadata": {},
   "outputs": [],
   "source": [
    "vgg_layer = tf.keras.applications.VGG19(include_top = False,\n",
    "                                        weights = \"imagenet\",\n",
    "                                        input_shape = (256, 256, 3),\n",
    "                                        classes = 2,\n",
    "                                        classifier_activation = \"sigmoid\")\n",
    "\n",
    "fc_layer = [\n",
    "    tf.keras.layers.Flatten(),\n",
    "    \n",
    "    tf.keras.layers.Dense(4096),\n",
    "    tf.keras.layers.Activation('relu'),\n",
    "    tf.keras.layers.Dropout(0.5),\n",
    "    \n",
    "    tf.keras.layers.Dense(4096),\n",
    "    tf.keras.layers.Activation('relu'),\n",
    "    tf.keras.layers.Dropout(0.5),\n",
    "    \n",
    "    tf.keras.layers.Dense(2),\n",
    "    tf.keras.layers.Activation('sigmoid')\n",
    "]\n",
    "\n",
    "vgg_layer.trainable = False\n",
    "\n",
    "vgg19 = tf.keras.models.Sequential([vgg_layer] + fc_layer)"
   ]
  },
  {
   "cell_type": "markdown",
   "id": "8d44c0f8",
   "metadata": {},
   "source": [
    "## Step 6. 모델 훈련\n",
    "\n",
    "#### GPU사용하여 model complie"
   ]
  },
  {
   "cell_type": "code",
   "execution_count": 18,
   "id": "2acf60d3",
   "metadata": {},
   "outputs": [],
   "source": [
    "with tf.device('/GPU:0'):\n",
    "    METRICS = [\n",
    "        'accuracy',\n",
    "        tf.keras.metrics.Precision(name='precision'),\n",
    "        tf.keras.metrics.Recall(name='recall'),\n",
    "        tf.keras.metrics.FalseNegatives(name='FN'),\n",
    "        tf.keras.metrics.FalsePositives(name='FP'),\n",
    "        tf.keras.metrics.TrueNegatives(name='TN'),\n",
    "        tf.keras.metrics.TruePositives(name='TP')\n",
    "    ]\n",
    "    \n",
    "    vgg19.compile(\n",
    "        optimizer='adam',\n",
    "        loss='binary_crossentropy',\n",
    "        metrics=METRICS\n",
    "    )\n",
    "    \n",
    "    # early_stopping = tf.keras.callbacks.EarlyStopping(monitor = 'val_loss', patience = 2, restore_best_weights = True)\n",
    "    check_point = tf.keras.callbacks.ModelCheckpoint(ROOT_PATH + '/Metrics_VGG19_with_matrics_2.h5')"
   ]
  },
  {
   "cell_type": "markdown",
   "id": "8e57093f",
   "metadata": {},
   "source": [
    "#### 모델 fitting"
   ]
  },
  {
   "cell_type": "code",
   "execution_count": 19,
   "id": "5e01a332",
   "metadata": {},
   "outputs": [
    {
     "name": "stdout",
     "output_type": "stream",
     "text": [
      "Epoch 1/3\n",
      "24/24 [==============================] - 84s 2s/step - loss: 7.1882 - accuracy: 0.5802 - precision: 0.5718 - recall: 0.5522 - FN: 169.4800 - FP: 156.1200 - TN: 258.6000 - TP: 245.2400 - val_loss: 0.3352 - val_accuracy: 0.8516 - val_precision: 0.8417 - val_recall: 0.8516 - val_FN: 38.0000 - val_FP: 41.0000 - val_TN: 215.0000 - val_TP: 218.0000\n",
      "Epoch 2/3\n",
      "24/24 [==============================] - 45s 2s/step - loss: 0.3942 - accuracy: 0.8610 - precision: 0.8517 - recall: 0.8540 - FN: 63.4400 - FP: 61.7600 - TN: 352.9600 - TP: 351.2800 - val_loss: 0.2961 - val_accuracy: 0.8750 - val_precision: 0.8845 - val_recall: 0.8672 - val_FN: 34.0000 - val_FP: 29.0000 - val_TN: 227.0000 - val_TP: 222.0000\n",
      "Epoch 3/3\n",
      "24/24 [==============================] - 46s 2s/step - loss: 0.2979 - accuracy: 0.8838 - precision: 0.8865 - recall: 0.8854 - FN: 47.6400 - FP: 48.4800 - TN: 366.2400 - TP: 367.0800 - val_loss: 0.2319 - val_accuracy: 0.9062 - val_precision: 0.9098 - val_recall: 0.9062 - val_FN: 24.0000 - val_FP: 23.0000 - val_TN: 233.0000 - val_TP: 232.0000\n"
     ]
    }
   ],
   "source": [
    "with tf.device('/GPU:0'):\n",
    "    history = vgg19.fit(\n",
    "        train_ds,\n",
    "        steps_per_epoch=TRAIN_IMG_COUNT // BATCH_SIZE,\n",
    "        epochs=EPOCHS,\n",
    "        validation_data=val_ds,\n",
    "        validation_steps=VAL_IMG_COUNT // BATCH_SIZE,\n",
    "        callbacks=[check_point]\n",
    "    )"
   ]
  },
  {
   "cell_type": "markdown",
   "id": "8efc4a7a",
   "metadata": {},
   "source": [
    "## Step 8. 최종 Test dataset 검정하기"
   ]
  },
  {
   "cell_type": "code",
   "execution_count": 20,
   "id": "34bce1dc",
   "metadata": {},
   "outputs": [
    {
     "name": "stdout",
     "output_type": "stream",
     "text": [
      "9/9 [==============================] - 20s 2s/step - loss: 0.2200 - accuracy: 0.9192 - precision: 0.9192 - recall: 0.9192 - FN: 21.0000 - FP: 21.0000 - TN: 239.0000 - TP: 239.0000\n"
     ]
    }
   ],
   "source": [
    "model = tf.keras.models.load_model(ROOT_PATH + '/Metrics_VGG19_with_matrics_2.h5')\n",
    "loss, acc, prec, rec, fn, fp, tn, tp = model.evaluate(test_ds)"
   ]
  },
  {
   "cell_type": "markdown",
   "id": "ae5a8fd7",
   "metadata": {},
   "source": [
    "> accuracy와 precision, recall이 모두 동일하게 나왔다. 심지어 FN = FP, TN = TP로 같다고 나왔다.\n",
    "\n",
    "\n",
    "## CPE의 이미지 전부를 예측해보기"
   ]
  },
  {
   "cell_type": "code",
   "execution_count": 21,
   "id": "0015e82c",
   "metadata": {},
   "outputs": [
    {
     "name": "stdout",
     "output_type": "stream",
     "text": [
      "117\n"
     ]
    }
   ],
   "source": [
    "test_list_ds1 = tf.data.Dataset.list_files(str(ROOT_PATH + '/CellPin/test/cpe/*'))\n",
    "TEST_IMAGE_COUNT1 = tf.data.experimental.cardinality(test_list_ds1).numpy()\n",
    "test_ds1 = test_list_ds1.map(process_path, num_parallel_calls=AUTOTUNE)\n",
    "test_ds1 = test_ds1.batch(BATCH_SIZE)\n",
    "\n",
    "print(TEST_IMAGE_COUNT1)"
   ]
  },
  {
   "cell_type": "code",
   "execution_count": 22,
   "id": "cfd059de",
   "metadata": {},
   "outputs": [
    {
     "name": "stdout",
     "output_type": "stream",
     "text": [
      "[0.00418973 0.99503064] 1 CPE 입니다.\n",
      "[0.83785665 0.1412478 ] 0 Normal 입니다.\n",
      "[0.02010306 0.97925013] 1 CPE 입니다.\n",
      "[0.0040025 0.9953348] 1 CPE 입니다.\n",
      "[0.00872996 0.9905405 ] 1 CPE 입니다.\n",
      "[0.00775086 0.99160624] 1 CPE 입니다.\n",
      "[0.07357534 0.9297622 ] 1 CPE 입니다.\n",
      "[0.2631793 0.7452904] 1 CPE 입니다.\n",
      "[0.00528756 0.99369377] 1 CPE 입니다.\n",
      "[0.00116666 0.9984584 ] 1 CPE 입니다.\n",
      "[0.48065075 0.52049094] 1 CPE 입니다.\n",
      "[0.00451274 0.9948549 ] 1 CPE 입니다.\n",
      "[0.00841645 0.9910295 ] 1 CPE 입니다.\n",
      "[0.00212317 0.99748105] 1 CPE 입니다.\n",
      "[0.02331212 0.9763743 ] 1 CPE 입니다.\n",
      "[0.05252776 0.949476  ] 1 CPE 입니다.\n",
      "[0.00779171 0.9912872 ] 1 CPE 입니다.\n",
      "[0.17573255 0.8310337 ] 1 CPE 입니다.\n",
      "[0.01626938 0.9819919 ] 1 CPE 입니다.\n",
      "[0.04478972 0.9558738 ] 1 CPE 입니다.\n",
      "[0.16925026 0.8369431 ] 1 CPE 입니다.\n",
      "[0.02108128 0.978949  ] 1 CPE 입니다.\n",
      "[0.8064055  0.17592742] 0 Normal 입니다.\n",
      "[0.04431237 0.9565291 ] 1 CPE 입니다.\n",
      "[0.03263175 0.966462  ] 1 CPE 입니다.\n",
      "[0.00640087 0.99302155] 1 CPE 입니다.\n",
      "[0.13451205 0.8685369 ] 1 CPE 입니다.\n",
      "[0.02725004 0.97245693] 1 CPE 입니다.\n",
      "[0.00896167 0.99042284] 1 CPE 입니다.\n",
      "[0.08134912 0.92274565] 1 CPE 입니다.\n",
      "[0.03243792 0.96773684] 1 CPE 입니다.\n",
      "[0.00348148 0.9959002 ] 1 CPE 입니다.\n",
      "[0.39723134 0.6007702 ] 1 CPE 입니다.\n",
      "[0.00231801 0.99718577] 1 CPE 입니다.\n",
      "[0.00400898 0.9953969 ] 1 CPE 입니다.\n",
      "[0.2514263 0.7657469] 1 CPE 입니다.\n",
      "[0.3192895 0.6876536] 1 CPE 입니다.\n",
      "[0.01016587 0.9890666 ] 1 CPE 입니다.\n",
      "[0.38457012 0.5999883 ] 1 CPE 입니다.\n",
      "[0.06662447 0.93489623] 1 CPE 입니다.\n",
      "[0.00341858 0.99598265] 1 CPE 입니다.\n",
      "[0.00585185 0.9933022 ] 1 CPE 입니다.\n",
      "[0.0235593  0.97681195] 1 CPE 입니다.\n",
      "[0.01039667 0.9887688 ] 1 CPE 입니다.\n",
      "[0.02258158 0.9768002 ] 1 CPE 입니다.\n",
      "[0.05989429 0.94288516] 1 CPE 입니다.\n",
      "[0.15425491 0.8549076 ] 1 CPE 입니다.\n",
      "[0.04616173 0.9552697 ] 1 CPE 입니다.\n",
      "[0.7189321  0.26991805] 0 Normal 입니다.\n",
      "[0.02601579 0.97354174] 1 CPE 입니다.\n",
      "[0.01000285 0.98907787] 1 CPE 입니다.\n",
      "[0.24301459 0.7557435 ] 1 CPE 입니다.\n",
      "[0.018295  0.9807233] 1 CPE 입니다.\n",
      "[0.01544337 0.9832812 ] 1 CPE 입니다.\n",
      "[0.05728385 0.9427739 ] 1 CPE 입니다.\n",
      "[0.05997597 0.93984425] 1 CPE 입니다.\n",
      "[0.00642959 0.9927118 ] 1 CPE 입니다.\n",
      "[0.16216731 0.84763366] 1 CPE 입니다.\n",
      "[0.07697213 0.92607296] 1 CPE 입니다.\n",
      "[0.02107911 0.9783246 ] 1 CPE 입니다.\n",
      "[0.24849895 0.7521908 ] 1 CPE 입니다.\n",
      "[0.16099033 0.8504679 ] 1 CPE 입니다.\n",
      "[0.00136211 0.998279  ] 1 CPE 입니다.\n",
      "[0.02268236 0.97666705] 1 CPE 입니다.\n",
      "[0.01269136 0.98598295] 1 CPE 입니다.\n",
      "[0.11207947 0.89437556] 1 CPE 입니다.\n",
      "[0.05151932 0.94976205] 1 CPE 입니다.\n",
      "[0.01376717 0.9854069 ] 1 CPE 입니다.\n",
      "[0.06572472 0.9365984 ] 1 CPE 입니다.\n",
      "[0.00334776 0.9960674 ] 1 CPE 입니다.\n",
      "[0.00242584 0.99701643] 1 CPE 입니다.\n",
      "[0.27033174 0.73521143] 1 CPE 입니다.\n",
      "[0.7941984 0.1880108] 0 Normal 입니다.\n",
      "[0.03826588 0.9623785 ] 1 CPE 입니다.\n",
      "[0.03101798 0.96882766] 1 CPE 입니다.\n",
      "[0.00143057 0.9982175 ] 1 CPE 입니다.\n",
      "[0.03155259 0.96757776] 1 CPE 입니다.\n",
      "[0.06420754 0.9357997 ] 1 CPE 입니다.\n",
      "[0.0064664 0.9928726] 1 CPE 입니다.\n",
      "[0.00433377 0.9950675 ] 1 CPE 입니다.\n",
      "[0.12994011 0.873466  ] 1 CPE 입니다.\n",
      "[0.07270638 0.92754555] 1 CPE 입니다.\n",
      "[0.11243158 0.8925825 ] 1 CPE 입니다.\n",
      "[0.00934879 0.9901872 ] 1 CPE 입니다.\n",
      "[0.8133294  0.16636904] 0 Normal 입니다.\n",
      "[0.80919397 0.17112802] 0 Normal 입니다.\n",
      "[0.36318904 0.6422146 ] 1 CPE 입니다.\n",
      "[0.0245789 0.9758657] 1 CPE 입니다.\n",
      "[0.00277112 0.99662685] 1 CPE 입니다.\n",
      "[0.06824461 0.93495554] 1 CPE 입니다.\n",
      "[0.0570519 0.9445977] 1 CPE 입니다.\n",
      "[0.00940389 0.98983335] 1 CPE 입니다.\n",
      "[0.03928702 0.96108913] 1 CPE 입니다.\n",
      "[0.01617501 0.983384  ] 1 CPE 입니다.\n",
      "[0.17066866 0.83840436] 1 CPE 입니다.\n",
      "[0.05592686 0.94430524] 1 CPE 입니다.\n",
      "[0.00100568 0.99869686] 1 CPE 입니다.\n",
      "[0.00402544 0.9952394 ] 1 CPE 입니다.\n",
      "[0.03485569 0.9641537 ] 1 CPE 입니다.\n",
      "[0.78106797 0.19524245] 0 Normal 입니다.\n",
      "[0.01582555 0.9839008 ] 1 CPE 입니다.\n",
      "[0.15270709 0.85514057] 1 CPE 입니다.\n",
      "[0.25072852 0.754556  ] 1 CPE 입니다.\n",
      "[0.5930513  0.40148237] 0 Normal 입니다.\n",
      "[0.10889108 0.89732945] 1 CPE 입니다.\n",
      "[0.02411263 0.9758649 ] 1 CPE 입니다.\n",
      "[0.49107495 0.50520086] 1 CPE 입니다.\n",
      "[0.72018343 0.25588354] 0 Normal 입니다.\n",
      "[0.23734796 0.77137154] 1 CPE 입니다.\n",
      "[0.28603825 0.72611916] 1 CPE 입니다.\n",
      "[0.69253165 0.29384106] 0 Normal 입니다.\n",
      "[0.04918775 0.95190084] 1 CPE 입니다.\n",
      "[0.00341155 0.99591076] 1 CPE 입니다.\n",
      "[0.00269598 0.9967727 ] 1 CPE 입니다.\n",
      "[0.03636874 0.96434635] 1 CPE 입니다.\n",
      "[0.28150475 0.72963053] 1 CPE 입니다.\n",
      "[0.12529811 0.8810051 ] 1 CPE 입니다.\n",
      "10\n"
     ]
    }
   ],
   "source": [
    "i = 0\n",
    "\n",
    "for predict in model.predict(test_ds1):\n",
    "    if np.argmax(predict) == 1:\n",
    "        print(predict, np.argmax(predict), 'CPE 입니다.')\n",
    "    else: \n",
    "        print(predict, np.argmax(predict), 'Normal 입니다.')\n",
    "        i += 1\n",
    "        \n",
    "print(i)"
   ]
  },
  {
   "cell_type": "markdown",
   "id": "f236bb63",
   "metadata": {},
   "source": [
    "> CPE 이미지 117개 중 107개를 CPE로 예측, 10개를 Normal로 예측\n",
    "\n",
    "## Normal 이미지를 전부 예측해보기"
   ]
  },
  {
   "cell_type": "code",
   "execution_count": 23,
   "id": "e8812fb4",
   "metadata": {},
   "outputs": [
    {
     "name": "stdout",
     "output_type": "stream",
     "text": [
      "143\n"
     ]
    }
   ],
   "source": [
    "test_list_ds2 = tf.data.Dataset.list_files(str(ROOT_PATH + '/CellPin/test/normal/*'))\n",
    "TEST_IMAGE_COUNT2 = tf.data.experimental.cardinality(test_list_ds2).numpy()\n",
    "test_ds2 = test_list_ds2.map(process_path, num_parallel_calls=AUTOTUNE)\n",
    "test_ds2 = test_ds2.batch(BATCH_SIZE)\n",
    "\n",
    "print(TEST_IMAGE_COUNT2)"
   ]
  },
  {
   "cell_type": "code",
   "execution_count": 24,
   "id": "909a759e",
   "metadata": {},
   "outputs": [
    {
     "name": "stdout",
     "output_type": "stream",
     "text": [
      "[0.9059703  0.07792253] 0 Normal 입니다.\n",
      "[0.39344832 0.5989817 ] 1 CPE 입니다.\n",
      "[0.8931714  0.09001957] 0 Normal 입니다.\n",
      "[0.832109   0.15146664] 0 Normal 입니다.\n",
      "[0.89518535 0.08821782] 0 Normal 입니다.\n",
      "[0.94115716 0.04550407] 0 Normal 입니다.\n",
      "[0.8484046  0.13124318] 0 Normal 입니다.\n",
      "[0.5422126  0.46594265] 0 Normal 입니다.\n",
      "[0.74163973 0.24520913] 0 Normal 입니다.\n",
      "[0.59547675 0.4155504 ] 0 Normal 입니다.\n",
      "[0.9164487 0.0685638] 0 Normal 입니다.\n",
      "[0.842943   0.13609105] 0 Normal 입니다.\n",
      "[0.95098203 0.03714918] 0 Normal 입니다.\n",
      "[0.96065176 0.02902253] 0 Normal 입니다.\n",
      "[0.940238   0.04661422] 0 Normal 입니다.\n",
      "[0.8563945 0.1276849] 0 Normal 입니다.\n",
      "[0.68802136 0.30948544] 0 Normal 입니다.\n",
      "[0.957892   0.03135256] 0 Normal 입니다.\n",
      "[0.800417  0.1809734] 0 Normal 입니다.\n",
      "[0.04438325 0.95697516] 1 CPE 입니다.\n",
      "[0.961995   0.02785412] 0 Normal 입니다.\n",
      "[0.9222874  0.06188171] 0 Normal 입니다.\n",
      "[0.87704635 0.10337438] 0 Normal 입니다.\n",
      "[0.47112614 0.53264403] 1 CPE 입니다.\n",
      "[0.9311699  0.05566593] 0 Normal 입니다.\n",
      "[0.91899574 0.06522862] 0 Normal 입니다.\n",
      "[0.89681995 0.08531622] 0 Normal 입니다.\n",
      "[0.8433129  0.13915561] 0 Normal 입니다.\n",
      "[0.6931413  0.29759264] 0 Normal 입니다.\n",
      "[0.7961985  0.18351786] 0 Normal 입니다.\n",
      "[0.95706964 0.03284724] 0 Normal 입니다.\n",
      "[0.8994875  0.08377634] 0 Normal 입니다.\n",
      "[0.84690917 0.13307704] 0 Normal 입니다.\n",
      "[0.8860757  0.09629788] 0 Normal 입니다.\n",
      "[0.96840614 0.02329144] 0 Normal 입니다.\n",
      "[0.95806247 0.03193908] 0 Normal 입니다.\n",
      "[0.35611844 0.645598  ] 1 CPE 입니다.\n",
      "[0.1416295 0.8655721] 1 CPE 입니다.\n",
      "[0.87001896 0.11240608] 0 Normal 입니다.\n",
      "[0.7216436  0.26726228] 0 Normal 입니다.\n",
      "[0.9573487  0.03327598] 0 Normal 입니다.\n",
      "[0.5575523 0.4316555] 0 Normal 입니다.\n",
      "[0.7090339  0.28944886] 0 Normal 입니다.\n",
      "[0.9206439  0.06368396] 0 Normal 입니다.\n",
      "[0.96000874 0.02948814] 0 Normal 입니다.\n",
      "[0.7356438  0.24771884] 0 Normal 입니다.\n",
      "[0.9615373  0.02909472] 0 Normal 입니다.\n",
      "[0.96605796 0.02456693] 0 Normal 입니다.\n",
      "[0.9369589  0.04911448] 0 Normal 입니다.\n",
      "[0.95621014 0.03249738] 0 Normal 입니다.\n",
      "[0.95854545 0.03092185] 0 Normal 입니다.\n",
      "[0.9458082  0.04137325] 0 Normal 입니다.\n",
      "[0.91944826 0.06728648] 0 Normal 입니다.\n",
      "[0.8977658  0.08619684] 0 Normal 입니다.\n",
      "[0.65206414 0.33950502] 0 Normal 입니다.\n",
      "[0.94571465 0.04128624] 0 Normal 입니다.\n",
      "[0.76769936 0.2178875 ] 0 Normal 입니다.\n",
      "[0.71652156 0.26846528] 0 Normal 입니다.\n",
      "[0.9258337 0.0592942] 0 Normal 입니다.\n",
      "[0.9414059  0.04758579] 0 Normal 입니다.\n",
      "[0.65463275 0.33901486] 0 Normal 입니다.\n",
      "[0.9305993  0.05552586] 0 Normal 입니다.\n",
      "[0.84020007 0.14048643] 0 Normal 입니다.\n",
      "[0.6830866  0.28061074] 0 Normal 입니다.\n",
      "[0.93580097 0.05051008] 0 Normal 입니다.\n",
      "[0.8171553  0.16435051] 0 Normal 입니다.\n",
      "[0.96910155 0.02234107] 0 Normal 입니다.\n",
      "[0.9480247  0.03943785] 0 Normal 입니다.\n",
      "[0.82926124 0.15368974] 0 Normal 입니다.\n",
      "[0.9305677  0.05514133] 0 Normal 입니다.\n",
      "[0.9639515  0.02657251] 0 Normal 입니다.\n",
      "[0.95090485 0.0373653 ] 0 Normal 입니다.\n",
      "[0.957435  0.0314593] 0 Normal 입니다.\n",
      "[0.87393284 0.10797341] 0 Normal 입니다.\n",
      "[0.96672744 0.02449232] 0 Normal 입니다.\n",
      "[0.95869106 0.03090451] 0 Normal 입니다.\n",
      "[0.760096   0.23096271] 0 Normal 입니다.\n",
      "[0.9519193 0.0379291] 0 Normal 입니다.\n",
      "[0.72889847 0.25853932] 0 Normal 입니다.\n",
      "[0.90866107 0.0758545 ] 0 Normal 입니다.\n",
      "[0.902772   0.07952334] 0 Normal 입니다.\n",
      "[0.9295249  0.05504613] 0 Normal 입니다.\n",
      "[0.93683416 0.04901676] 0 Normal 입니다.\n",
      "[0.91123074 0.07404988] 0 Normal 입니다.\n",
      "[0.94820225 0.03984762] 0 Normal 입니다.\n",
      "[0.221456  0.7860446] 1 CPE 입니다.\n",
      "[0.9270261  0.05881169] 0 Normal 입니다.\n",
      "[0.7697606  0.20748964] 0 Normal 입니다.\n",
      "[0.9172288  0.06723838] 0 Normal 입니다.\n",
      "[0.91654927 0.06993504] 0 Normal 입니다.\n",
      "[0.8044236  0.18055506] 0 Normal 입니다.\n",
      "[0.7730661  0.21283601] 0 Normal 입니다.\n",
      "[0.9315358 0.0546335] 0 Normal 입니다.\n",
      "[0.96403354 0.02719437] 0 Normal 입니다.\n",
      "[0.9409424  0.04738222] 0 Normal 입니다.\n",
      "[0.41747743 0.58788186] 1 CPE 입니다.\n",
      "[0.9109314  0.07370815] 0 Normal 입니다.\n",
      "[0.90647465 0.07471863] 0 Normal 입니다.\n",
      "[0.9297321 0.0557153] 0 Normal 입니다.\n",
      "[0.95530766 0.03359394] 0 Normal 입니다.\n",
      "[0.9227131  0.06211587] 0 Normal 입니다.\n",
      "[0.9769676  0.01670513] 0 Normal 입니다.\n",
      "[0.1628643 0.8441808] 1 CPE 입니다.\n",
      "[0.39746895 0.5917653 ] 1 CPE 입니다.\n",
      "[0.85362303 0.1289395 ] 0 Normal 입니다.\n",
      "[0.93055904 0.05522701] 0 Normal 입니다.\n",
      "[0.8812876  0.09982473] 0 Normal 입니다.\n",
      "[0.861792   0.12010787] 0 Normal 입니다.\n",
      "[0.9074894  0.07630468] 0 Normal 입니다.\n",
      "[0.93302876 0.0527573 ] 0 Normal 입니다.\n",
      "[0.94945264 0.03865265] 0 Normal 입니다.\n",
      "[0.13308726 0.8747175 ] 1 CPE 입니다.\n",
      "[0.44602022 0.56297904] 1 CPE 입니다.\n",
      "[0.9260873  0.05957341] 0 Normal 입니다.\n",
      "[0.94175506 0.04523359] 0 Normal 입니다.\n",
      "[0.94397306 0.0429373 ] 0 Normal 입니다.\n",
      "[0.9717701  0.02027296] 0 Normal 입니다.\n",
      "[0.9334448  0.05260627] 0 Normal 입니다.\n",
      "[0.91219926 0.07149846] 0 Normal 입니다.\n",
      "[0.975904   0.01735188] 0 Normal 입니다.\n",
      "[0.9031347  0.08011594] 0 Normal 입니다.\n",
      "[0.81558615 0.16492133] 0 Normal 입니다.\n",
      "[0.9001849  0.08323204] 0 Normal 입니다.\n",
      "[0.83072585 0.1519203 ] 0 Normal 입니다.\n",
      "[0.7711502  0.21215807] 0 Normal 입니다.\n",
      "[0.9505478  0.03859887] 0 Normal 입니다.\n",
      "[0.91068757 0.07256081] 0 Normal 입니다.\n",
      "[0.93220705 0.05258984] 0 Normal 입니다.\n",
      "[0.9424164  0.04441305] 0 Normal 입니다.\n",
      "[0.9721281 0.0200524] 0 Normal 입니다.\n",
      "[0.91076624 0.07339247] 0 Normal 입니다.\n",
      "[0.80605763 0.17269647] 0 Normal 입니다.\n",
      "[0.9639519  0.02706109] 0 Normal 입니다.\n",
      "[0.96182185 0.02897539] 0 Normal 입니다.\n",
      "[0.69877386 0.29557142] 0 Normal 입니다.\n",
      "[0.9048448  0.07856744] 0 Normal 입니다.\n",
      "[0.93707216 0.04874485] 0 Normal 입니다.\n",
      "[0.8595013  0.12309969] 0 Normal 입니다.\n",
      "[0.7677518  0.21482503] 0 Normal 입니다.\n",
      "[0.95945925 0.03046498] 0 Normal 입니다.\n",
      "[0.8812821  0.10164908] 0 Normal 입니다.\n",
      "[0.9781562  0.01523319] 0 Normal 입니다.\n",
      "[0.6799106  0.31641504] 0 Normal 입니다.\n",
      "11\n"
     ]
    }
   ],
   "source": [
    "i = 0\n",
    "\n",
    "for predict in model.predict(test_ds2):\n",
    "    if np.argmax(predict) == 1:\n",
    "        print(predict, np.argmax(predict), 'CPE 입니다.')\n",
    "        i += 1\n",
    "    else: \n",
    "        print(predict, np.argmax(predict), 'Normal 입니다.')\n",
    "\n",
    "print(i)"
   ]
  },
  {
   "cell_type": "markdown",
   "id": "e9c3f06f",
   "metadata": {},
   "source": [
    "> Normal 이미지 143개 중 11개를 CPE로 132개를 Normal로 예측하였다.\n",
    "\n",
    "# Discussion\n",
    "\n",
    "TP = TN = 239 (이는 위에서 TP + TN의 값이다.)\n",
    "FN = FP = 21 (이는 위에서 FN+ FP의 값이다.)\n",
    "\n",
    "위와 같은 결과가 나왔는데 TP와 TN을 더한 값으로 TP와 TN이 동일하게 나왔고, 마찬가지로 FN과 FP를 더한 값으로 FN과 FP이 동일하게 나왔다. 이는 위에서 보았듯이 Accuracy와 Precision, Recall이 동일하게 나오게 되는 조건을 만족하게 되는 것이다.\n",
    "\n",
    " \n",
    "\n",
    "즉, 해석해보자면 라벨링을 리스트(\\[1, 0\\], \\[0, 1\\])로 해준 경우 맞춘 것(TP, TN)과 틀린 것(FN, FP)으로만 구별할 수 있는 듯하다."
   ]
  },
  {
   "cell_type": "code",
   "execution_count": null,
   "id": "661c554c",
   "metadata": {},
   "outputs": [],
   "source": []
  }
 ],
 "metadata": {
  "kernelspec": {
   "display_name": "aiffel",
   "language": "python",
   "name": "aiffel"
  },
  "language_info": {
   "codemirror_mode": {
    "name": "ipython",
    "version": 3
   },
   "file_extension": ".py",
   "mimetype": "text/x-python",
   "name": "python",
   "nbconvert_exporter": "python",
   "pygments_lexer": "ipython3",
   "version": "3.7.10"
  },
  "toc": {
   "base_numbering": 1,
   "nav_menu": {},
   "number_sections": true,
   "sideBar": true,
   "skip_h1_title": false,
   "title_cell": "Table of Contents",
   "title_sidebar": "Contents",
   "toc_cell": false,
   "toc_position": {},
   "toc_section_display": true,
   "toc_window_display": false
  }
 },
 "nbformat": 4,
 "nbformat_minor": 5
}
